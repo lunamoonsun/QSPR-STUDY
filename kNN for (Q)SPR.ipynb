{
 "cells": [
  {
   "cell_type": "markdown",
   "id": "8d9d5e8a",
   "metadata": {},
   "source": [
    "O que é QSPR? \n",
    " \n",
    "- (Q)SPR (Relação Quantitativa Estrutura-Propriedade) \n",
    "\n",
    "- Esse modelo SPR desenvolvido corresponde a compreensão se caso a molécula é mutagênica ou não. \n",
    "\n",
    "- Mutagenicidade é a propriedade de substâncias para induzir mutação genética. É uma das propriedades ambientais, de saúde e segurança (EHS) mais importantes a serem verificadas ao lidar com novos produtos químicos (por exemplo, drogas ou solventes). Neste caso, vamos usar os dados de mutagenicidade em Salmonella typhimurium (teste de Ames). Este conjunto de dados foi coletado pelo Istituto di Ricerche Farmacologiche Mario Negri, mesclando dados experimentais de um conjunto de dados de referência compilado por [HMS 09] a partir de uma coleção de dados disponibilizada pelo Ministério da Saúde do Japão em seu projeto Ames (Q)SAR."
   ]
  },
  {
   "cell_type": "markdown",
   "id": "941f5da4",
   "metadata": {},
   "source": [
    "# 1. Importando as bibliotecas"
   ]
  },
  {
   "cell_type": "code",
   "execution_count": 2,
   "id": "57016bbe",
   "metadata": {},
   "outputs": [],
   "source": [
    "import matplotlib.pyplot as plt\n",
    "%matplotlib inline\n",
    "\n",
    "import seaborn as sns\n",
    "import pandas as pd\n",
    "import numpy as np\n",
    "\n",
    "import warnings\n",
    "warnings.simplefilter(action='ignore', category=FutureWarning)"
   ]
  },
  {
   "cell_type": "markdown",
   "id": "fb968b90",
   "metadata": {},
   "source": [
    "# 2. Importando dados "
   ]
  },
  {
   "cell_type": "code",
   "execution_count": 3,
   "id": "7048ee6c",
   "metadata": {},
   "outputs": [],
   "source": [
    "data = pd.read_csv(\"https://raw.githubusercontent.com/edgarsmdn/MLCE_book/main/references/mutagenicity_kNN.csv\")"
   ]
  },
  {
   "cell_type": "code",
   "execution_count": 4,
   "id": "faeefd3c",
   "metadata": {},
   "outputs": [
    {
     "data": {
      "text/html": [
       "<div>\n",
       "<style scoped>\n",
       "    .dataframe tbody tr th:only-of-type {\n",
       "        vertical-align: middle;\n",
       "    }\n",
       "\n",
       "    .dataframe tbody tr th {\n",
       "        vertical-align: top;\n",
       "    }\n",
       "\n",
       "    .dataframe thead th {\n",
       "        text-align: right;\n",
       "    }\n",
       "</style>\n",
       "<table border=\"1\" class=\"dataframe\">\n",
       "  <thead>\n",
       "    <tr style=\"text-align: right;\">\n",
       "      <th></th>\n",
       "      <th>Unnamed: 0</th>\n",
       "      <th>Id</th>\n",
       "      <th>CAS</th>\n",
       "      <th>SMILES</th>\n",
       "      <th>Status</th>\n",
       "      <th>Experimental value</th>\n",
       "      <th>Predicted value</th>\n",
       "      <th>NumValenceElectrons</th>\n",
       "      <th>qed</th>\n",
       "      <th>TPSA</th>\n",
       "      <th>MolMR</th>\n",
       "      <th>BalabanJ</th>\n",
       "      <th>BertzCT</th>\n",
       "      <th>MolWt</th>\n",
       "      <th>MolLogP</th>\n",
       "    </tr>\n",
       "  </thead>\n",
       "  <tbody>\n",
       "    <tr>\n",
       "      <th>0</th>\n",
       "      <td>0</td>\n",
       "      <td>1</td>\n",
       "      <td>100-00-5</td>\n",
       "      <td>O=[N+]([O-])c1ccc(cc1)Cl</td>\n",
       "      <td>Training</td>\n",
       "      <td>1</td>\n",
       "      <td>1</td>\n",
       "      <td>52</td>\n",
       "      <td>0.463602</td>\n",
       "      <td>43.14</td>\n",
       "      <td>38.1064</td>\n",
       "      <td>3.003401</td>\n",
       "      <td>244.429658</td>\n",
       "      <td>157.556</td>\n",
       "      <td>2.2482</td>\n",
       "    </tr>\n",
       "    <tr>\n",
       "      <th>1</th>\n",
       "      <td>1</td>\n",
       "      <td>2</td>\n",
       "      <td>100-01-6</td>\n",
       "      <td>O=[N+]([O-])c1ccc(N)cc1</td>\n",
       "      <td>Training</td>\n",
       "      <td>1</td>\n",
       "      <td>1</td>\n",
       "      <td>52</td>\n",
       "      <td>0.359544</td>\n",
       "      <td>69.16</td>\n",
       "      <td>37.5088</td>\n",
       "      <td>3.003401</td>\n",
       "      <td>242.429658</td>\n",
       "      <td>138.126</td>\n",
       "      <td>1.1770</td>\n",
       "    </tr>\n",
       "    <tr>\n",
       "      <th>2</th>\n",
       "      <td>2</td>\n",
       "      <td>3</td>\n",
       "      <td>100-02-7</td>\n",
       "      <td>O=[N+]([O-])c1ccc(O)cc1</td>\n",
       "      <td>Training</td>\n",
       "      <td>0</td>\n",
       "      <td>1</td>\n",
       "      <td>52</td>\n",
       "      <td>0.470728</td>\n",
       "      <td>63.37</td>\n",
       "      <td>34.7612</td>\n",
       "      <td>3.003401</td>\n",
       "      <td>241.674771</td>\n",
       "      <td>139.110</td>\n",
       "      <td>1.3004</td>\n",
       "    </tr>\n",
       "    <tr>\n",
       "      <th>3</th>\n",
       "      <td>3</td>\n",
       "      <td>4</td>\n",
       "      <td>100-11-8</td>\n",
       "      <td>O=[N+]([O-])c1ccc(cc1)CBr</td>\n",
       "      <td>Training</td>\n",
       "      <td>1</td>\n",
       "      <td>0</td>\n",
       "      <td>58</td>\n",
       "      <td>0.432586</td>\n",
       "      <td>43.14</td>\n",
       "      <td>45.7274</td>\n",
       "      <td>2.913802</td>\n",
       "      <td>257.648013</td>\n",
       "      <td>216.034</td>\n",
       "      <td>2.4897</td>\n",
       "    </tr>\n",
       "    <tr>\n",
       "      <th>4</th>\n",
       "      <td>4</td>\n",
       "      <td>5</td>\n",
       "      <td>100-12-9</td>\n",
       "      <td>O=[N+]([O-])c1ccc(cc1)CC</td>\n",
       "      <td>Training</td>\n",
       "      <td>0</td>\n",
       "      <td>0</td>\n",
       "      <td>58</td>\n",
       "      <td>0.479785</td>\n",
       "      <td>43.14</td>\n",
       "      <td>42.4744</td>\n",
       "      <td>2.913802</td>\n",
       "      <td>253.299498</td>\n",
       "      <td>151.165</td>\n",
       "      <td>2.1572</td>\n",
       "    </tr>\n",
       "  </tbody>\n",
       "</table>\n",
       "</div>"
      ],
      "text/plain": [
       "   Unnamed: 0  Id       CAS                     SMILES    Status  \\\n",
       "0           0   1  100-00-5   O=[N+]([O-])c1ccc(cc1)Cl  Training   \n",
       "1           1   2  100-01-6    O=[N+]([O-])c1ccc(N)cc1  Training   \n",
       "2           2   3  100-02-7    O=[N+]([O-])c1ccc(O)cc1  Training   \n",
       "3           3   4  100-11-8  O=[N+]([O-])c1ccc(cc1)CBr  Training   \n",
       "4           4   5  100-12-9   O=[N+]([O-])c1ccc(cc1)CC  Training   \n",
       "\n",
       "   Experimental value Predicted value  NumValenceElectrons       qed   TPSA  \\\n",
       "0                   1               1                   52  0.463602  43.14   \n",
       "1                   1               1                   52  0.359544  69.16   \n",
       "2                   0               1                   52  0.470728  63.37   \n",
       "3                   1               0                   58  0.432586  43.14   \n",
       "4                   0               0                   58  0.479785  43.14   \n",
       "\n",
       "     MolMR  BalabanJ     BertzCT    MolWt  MolLogP  \n",
       "0  38.1064  3.003401  244.429658  157.556   2.2482  \n",
       "1  37.5088  3.003401  242.429658  138.126   1.1770  \n",
       "2  34.7612  3.003401  241.674771  139.110   1.3004  \n",
       "3  45.7274  2.913802  257.648013  216.034   2.4897  \n",
       "4  42.4744  2.913802  253.299498  151.165   2.1572  "
      ]
     },
     "execution_count": 4,
     "metadata": {},
     "output_type": "execute_result"
    }
   ],
   "source": [
    "data.head()"
   ]
  },
  {
   "cell_type": "code",
   "execution_count": 5,
   "id": "9f25c3a1",
   "metadata": {},
   "outputs": [
    {
     "data": {
      "text/plain": [
       "Unnamed: 0               int64\n",
       "Id                       int64\n",
       "CAS                     object\n",
       "SMILES                  object\n",
       "Status                  object\n",
       "Experimental value       int64\n",
       "Predicted value         object\n",
       "NumValenceElectrons      int64\n",
       "qed                    float64\n",
       "TPSA                   float64\n",
       "MolMR                  float64\n",
       "BalabanJ               float64\n",
       "BertzCT                float64\n",
       "MolWt                  float64\n",
       "MolLogP                float64\n",
       "dtype: object"
      ]
     },
     "execution_count": 5,
     "metadata": {},
     "output_type": "execute_result"
    }
   ],
   "source": [
    "# Tipo dos dados\n",
    "\n",
    "data.dtypes"
   ]
  },
  {
   "cell_type": "code",
   "execution_count": 6,
   "id": "51a8b81c",
   "metadata": {},
   "outputs": [
    {
     "data": {
      "text/plain": [
       "Unnamed: 0             0\n",
       "Id                     0\n",
       "CAS                    0\n",
       "SMILES                 0\n",
       "Status                 0\n",
       "Experimental value     0\n",
       "Predicted value        0\n",
       "NumValenceElectrons    0\n",
       "qed                    0\n",
       "TPSA                   0\n",
       "MolMR                  0\n",
       "BalabanJ               0\n",
       "BertzCT                0\n",
       "MolWt                  0\n",
       "MolLogP                0\n",
       "dtype: int64"
      ]
     },
     "execution_count": 6,
     "metadata": {},
     "output_type": "execute_result"
    }
   ],
   "source": [
    "# Nao existe dados nulos\n",
    "\n",
    "data.isnull().sum() "
   ]
  },
  {
   "cell_type": "code",
   "execution_count": 7,
   "id": "bc180341",
   "metadata": {},
   "outputs": [
    {
     "data": {
      "text/html": [
       "<div>\n",
       "<style scoped>\n",
       "    .dataframe tbody tr th:only-of-type {\n",
       "        vertical-align: middle;\n",
       "    }\n",
       "\n",
       "    .dataframe tbody tr th {\n",
       "        vertical-align: top;\n",
       "    }\n",
       "\n",
       "    .dataframe thead th {\n",
       "        text-align: right;\n",
       "    }\n",
       "</style>\n",
       "<table border=\"1\" class=\"dataframe\">\n",
       "  <thead>\n",
       "    <tr style=\"text-align: right;\">\n",
       "      <th></th>\n",
       "      <th>Unnamed: 0</th>\n",
       "      <th>Id</th>\n",
       "      <th>CAS</th>\n",
       "      <th>SMILES</th>\n",
       "      <th>Status</th>\n",
       "      <th>Experimental value</th>\n",
       "      <th>Predicted value</th>\n",
       "      <th>NumValenceElectrons</th>\n",
       "      <th>qed</th>\n",
       "      <th>TPSA</th>\n",
       "      <th>MolMR</th>\n",
       "      <th>BalabanJ</th>\n",
       "      <th>BertzCT</th>\n",
       "      <th>MolWt</th>\n",
       "      <th>MolLogP</th>\n",
       "    </tr>\n",
       "  </thead>\n",
       "  <tbody>\n",
       "    <tr>\n",
       "      <th>0</th>\n",
       "      <td>0</td>\n",
       "      <td>1</td>\n",
       "      <td>100-00-5</td>\n",
       "      <td>O=[N+]([O-])c1ccc(cc1)Cl</td>\n",
       "      <td>Training</td>\n",
       "      <td>1</td>\n",
       "      <td>1</td>\n",
       "      <td>52</td>\n",
       "      <td>0.463602</td>\n",
       "      <td>43.14</td>\n",
       "      <td>38.1064</td>\n",
       "      <td>3.003401</td>\n",
       "      <td>244.429658</td>\n",
       "      <td>157.556</td>\n",
       "      <td>2.2482</td>\n",
       "    </tr>\n",
       "    <tr>\n",
       "      <th>1</th>\n",
       "      <td>1</td>\n",
       "      <td>2</td>\n",
       "      <td>100-01-6</td>\n",
       "      <td>O=[N+]([O-])c1ccc(N)cc1</td>\n",
       "      <td>Training</td>\n",
       "      <td>1</td>\n",
       "      <td>1</td>\n",
       "      <td>52</td>\n",
       "      <td>0.359544</td>\n",
       "      <td>69.16</td>\n",
       "      <td>37.5088</td>\n",
       "      <td>3.003401</td>\n",
       "      <td>242.429658</td>\n",
       "      <td>138.126</td>\n",
       "      <td>1.1770</td>\n",
       "    </tr>\n",
       "    <tr>\n",
       "      <th>2</th>\n",
       "      <td>2</td>\n",
       "      <td>3</td>\n",
       "      <td>100-02-7</td>\n",
       "      <td>O=[N+]([O-])c1ccc(O)cc1</td>\n",
       "      <td>Training</td>\n",
       "      <td>0</td>\n",
       "      <td>1</td>\n",
       "      <td>52</td>\n",
       "      <td>0.470728</td>\n",
       "      <td>63.37</td>\n",
       "      <td>34.7612</td>\n",
       "      <td>3.003401</td>\n",
       "      <td>241.674771</td>\n",
       "      <td>139.110</td>\n",
       "      <td>1.3004</td>\n",
       "    </tr>\n",
       "    <tr>\n",
       "      <th>3</th>\n",
       "      <td>3</td>\n",
       "      <td>4</td>\n",
       "      <td>100-11-8</td>\n",
       "      <td>O=[N+]([O-])c1ccc(cc1)CBr</td>\n",
       "      <td>Training</td>\n",
       "      <td>1</td>\n",
       "      <td>0</td>\n",
       "      <td>58</td>\n",
       "      <td>0.432586</td>\n",
       "      <td>43.14</td>\n",
       "      <td>45.7274</td>\n",
       "      <td>2.913802</td>\n",
       "      <td>257.648013</td>\n",
       "      <td>216.034</td>\n",
       "      <td>2.4897</td>\n",
       "    </tr>\n",
       "  </tbody>\n",
       "</table>\n",
       "</div>"
      ],
      "text/plain": [
       "   Unnamed: 0  Id       CAS                     SMILES    Status  \\\n",
       "0           0   1  100-00-5   O=[N+]([O-])c1ccc(cc1)Cl  Training   \n",
       "1           1   2  100-01-6    O=[N+]([O-])c1ccc(N)cc1  Training   \n",
       "2           2   3  100-02-7    O=[N+]([O-])c1ccc(O)cc1  Training   \n",
       "3           3   4  100-11-8  O=[N+]([O-])c1ccc(cc1)CBr  Training   \n",
       "\n",
       "   Experimental value Predicted value  NumValenceElectrons       qed   TPSA  \\\n",
       "0                   1               1                   52  0.463602  43.14   \n",
       "1                   1               1                   52  0.359544  69.16   \n",
       "2                   0               1                   52  0.470728  63.37   \n",
       "3                   1               0                   58  0.432586  43.14   \n",
       "\n",
       "     MolMR  BalabanJ     BertzCT    MolWt  MolLogP  \n",
       "0  38.1064  3.003401  244.429658  157.556   2.2482  \n",
       "1  37.5088  3.003401  242.429658  138.126   1.1770  \n",
       "2  34.7612  3.003401  241.674771  139.110   1.3004  \n",
       "3  45.7274  2.913802  257.648013  216.034   2.4897  "
      ]
     },
     "execution_count": 7,
     "metadata": {},
     "output_type": "execute_result"
    }
   ],
   "source": [
    "# Acessando os primeiros 4 valores do dataframe por index\n",
    "\n",
    "primeiras_linhas = data.iloc[:4]\n",
    "primeiras_linhas"
   ]
  },
  {
   "cell_type": "code",
   "execution_count": 8,
   "id": "417b8ad5",
   "metadata": {},
   "outputs": [
    {
     "data": {
      "text/plain": [
       "0       1\n",
       "1       1\n",
       "2       0\n",
       "3       1\n",
       "4       0\n",
       "       ..\n",
       "5759    1\n",
       "5760    1\n",
       "5761    1\n",
       "5762    1\n",
       "5763    1\n",
       "Name: Experimental value, Length: 5764, dtype: int64"
      ]
     },
     "execution_count": 8,
     "metadata": {},
     "output_type": "execute_result"
    }
   ],
   "source": [
    "# Acessando e guardando valores da coluna em específico desejada\n",
    "\n",
    "y_experimento_result = data['Experimental value']\n",
    "y_experimento_result"
   ]
  },
  {
   "cell_type": "code",
   "execution_count": 9,
   "id": "06116e56",
   "metadata": {},
   "outputs": [
    {
     "data": {
      "text/html": [
       "<div>\n",
       "<style scoped>\n",
       "    .dataframe tbody tr th:only-of-type {\n",
       "        vertical-align: middle;\n",
       "    }\n",
       "\n",
       "    .dataframe tbody tr th {\n",
       "        vertical-align: top;\n",
       "    }\n",
       "\n",
       "    .dataframe thead th {\n",
       "        text-align: right;\n",
       "    }\n",
       "</style>\n",
       "<table border=\"1\" class=\"dataframe\">\n",
       "  <thead>\n",
       "    <tr style=\"text-align: right;\">\n",
       "      <th></th>\n",
       "      <th>Unnamed: 0</th>\n",
       "      <th>Id</th>\n",
       "      <th>CAS</th>\n",
       "      <th>SMILES</th>\n",
       "      <th>Status</th>\n",
       "      <th>Experimental value</th>\n",
       "      <th>Predicted value</th>\n",
       "      <th>NumValenceElectrons</th>\n",
       "      <th>qed</th>\n",
       "      <th>TPSA</th>\n",
       "      <th>MolMR</th>\n",
       "      <th>BalabanJ</th>\n",
       "      <th>BertzCT</th>\n",
       "      <th>MolWt</th>\n",
       "      <th>MolLogP</th>\n",
       "    </tr>\n",
       "  </thead>\n",
       "  <tbody>\n",
       "    <tr>\n",
       "      <th>0</th>\n",
       "      <td>0</td>\n",
       "      <td>1</td>\n",
       "      <td>100-00-5</td>\n",
       "      <td>O=[N+]([O-])c1ccc(cc1)Cl</td>\n",
       "      <td>Training</td>\n",
       "      <td>1</td>\n",
       "      <td>1</td>\n",
       "      <td>52</td>\n",
       "      <td>0.463602</td>\n",
       "      <td>43.14</td>\n",
       "      <td>38.1064</td>\n",
       "      <td>3.003401</td>\n",
       "      <td>244.429658</td>\n",
       "      <td>157.556</td>\n",
       "      <td>2.24820</td>\n",
       "    </tr>\n",
       "    <tr>\n",
       "      <th>1</th>\n",
       "      <td>1</td>\n",
       "      <td>2</td>\n",
       "      <td>100-01-6</td>\n",
       "      <td>O=[N+]([O-])c1ccc(N)cc1</td>\n",
       "      <td>Training</td>\n",
       "      <td>1</td>\n",
       "      <td>1</td>\n",
       "      <td>52</td>\n",
       "      <td>0.359544</td>\n",
       "      <td>69.16</td>\n",
       "      <td>37.5088</td>\n",
       "      <td>3.003401</td>\n",
       "      <td>242.429658</td>\n",
       "      <td>138.126</td>\n",
       "      <td>1.17700</td>\n",
       "    </tr>\n",
       "    <tr>\n",
       "      <th>3</th>\n",
       "      <td>3</td>\n",
       "      <td>4</td>\n",
       "      <td>100-11-8</td>\n",
       "      <td>O=[N+]([O-])c1ccc(cc1)CBr</td>\n",
       "      <td>Training</td>\n",
       "      <td>1</td>\n",
       "      <td>0</td>\n",
       "      <td>58</td>\n",
       "      <td>0.432586</td>\n",
       "      <td>43.14</td>\n",
       "      <td>45.7274</td>\n",
       "      <td>2.913802</td>\n",
       "      <td>257.648013</td>\n",
       "      <td>216.034</td>\n",
       "      <td>2.48970</td>\n",
       "    </tr>\n",
       "    <tr>\n",
       "      <th>6</th>\n",
       "      <td>6</td>\n",
       "      <td>7</td>\n",
       "      <td>100-13-0</td>\n",
       "      <td>O=[N+]([O-])c1ccc(C=C)cc1</td>\n",
       "      <td>Training</td>\n",
       "      <td>1</td>\n",
       "      <td>0</td>\n",
       "      <td>56</td>\n",
       "      <td>0.477660</td>\n",
       "      <td>43.14</td>\n",
       "      <td>43.1874</td>\n",
       "      <td>3.000887</td>\n",
       "      <td>276.648462</td>\n",
       "      <td>149.149</td>\n",
       "      <td>2.23780</td>\n",
       "    </tr>\n",
       "    <tr>\n",
       "      <th>7</th>\n",
       "      <td>7</td>\n",
       "      <td>8</td>\n",
       "      <td>100-14-1</td>\n",
       "      <td>O=[N+]([O-])c1ccc(cc1)CCl</td>\n",
       "      <td>Training</td>\n",
       "      <td>1</td>\n",
       "      <td>1</td>\n",
       "      <td>58</td>\n",
       "      <td>0.389482</td>\n",
       "      <td>43.14</td>\n",
       "      <td>42.6534</td>\n",
       "      <td>2.913802</td>\n",
       "      <td>257.648013</td>\n",
       "      <td>171.583</td>\n",
       "      <td>2.33360</td>\n",
       "    </tr>\n",
       "    <tr>\n",
       "      <th>...</th>\n",
       "      <td>...</td>\n",
       "      <td>...</td>\n",
       "      <td>...</td>\n",
       "      <td>...</td>\n",
       "      <td>...</td>\n",
       "      <td>...</td>\n",
       "      <td>...</td>\n",
       "      <td>...</td>\n",
       "      <td>...</td>\n",
       "      <td>...</td>\n",
       "      <td>...</td>\n",
       "      <td>...</td>\n",
       "      <td>...</td>\n",
       "      <td>...</td>\n",
       "      <td>...</td>\n",
       "    </tr>\n",
       "    <tr>\n",
       "      <th>5759</th>\n",
       "      <td>5759</td>\n",
       "      <td>5767</td>\n",
       "      <td>20395-16-8</td>\n",
       "      <td>O=C1N(C(=O)N(C(=O)N1CC=C)CC2OC2)CC=C</td>\n",
       "      <td>Training</td>\n",
       "      <td>1</td>\n",
       "      <td>0</td>\n",
       "      <td>102</td>\n",
       "      <td>0.485090</td>\n",
       "      <td>78.53</td>\n",
       "      <td>69.3560</td>\n",
       "      <td>2.668492</td>\n",
       "      <td>627.435628</td>\n",
       "      <td>265.269</td>\n",
       "      <td>-1.05750</td>\n",
       "    </tr>\n",
       "    <tr>\n",
       "      <th>5760</th>\n",
       "      <td>5760</td>\n",
       "      <td>5768</td>\n",
       "      <td>34718-47-3</td>\n",
       "      <td>O=C(C(Br)(Br)Br)Cl</td>\n",
       "      <td>Training</td>\n",
       "      <td>1</td>\n",
       "      <td>1</td>\n",
       "      <td>42</td>\n",
       "      <td>0.495987</td>\n",
       "      <td>17.07</td>\n",
       "      <td>40.3720</td>\n",
       "      <td>3.791118</td>\n",
       "      <td>85.425922</td>\n",
       "      <td>315.186</td>\n",
       "      <td>2.59030</td>\n",
       "    </tr>\n",
       "    <tr>\n",
       "      <th>5761</th>\n",
       "      <td>5761</td>\n",
       "      <td>5769</td>\n",
       "      <td>43204-63-3</td>\n",
       "      <td>N(CCBr)CCBr</td>\n",
       "      <td>Training</td>\n",
       "      <td>1</td>\n",
       "      <td>1</td>\n",
       "      <td>44</td>\n",
       "      <td>0.568556</td>\n",
       "      <td>12.03</td>\n",
       "      <td>40.4577</td>\n",
       "      <td>2.447473</td>\n",
       "      <td>28.870765</td>\n",
       "      <td>230.931</td>\n",
       "      <td>1.36580</td>\n",
       "    </tr>\n",
       "    <tr>\n",
       "      <th>5762</th>\n",
       "      <td>5762</td>\n",
       "      <td>5770</td>\n",
       "      <td>52583-35-4</td>\n",
       "      <td>N#Cc2cc(cc(c2(N=Nc1ccc(cc1(NC(=O)C))N(CCOC)CCO...</td>\n",
       "      <td>Training</td>\n",
       "      <td>1</td>\n",
       "      <td>1</td>\n",
       "      <td>184</td>\n",
       "      <td>0.264581</td>\n",
       "      <td>185.59</td>\n",
       "      <td>125.3525</td>\n",
       "      <td>2.552977</td>\n",
       "      <td>1169.342047</td>\n",
       "      <td>485.457</td>\n",
       "      <td>3.84768</td>\n",
       "    </tr>\n",
       "    <tr>\n",
       "      <th>5763</th>\n",
       "      <td>5763</td>\n",
       "      <td>5771</td>\n",
       "      <td>188021-38-7</td>\n",
       "      <td>O(c1c(cc(cc1Br)C)C(C)(C)C)CC=C</td>\n",
       "      <td>Training</td>\n",
       "      <td>1</td>\n",
       "      <td>0</td>\n",
       "      <td>88</td>\n",
       "      <td>0.735392</td>\n",
       "      <td>9.23</td>\n",
       "      <td>73.2710</td>\n",
       "      <td>3.263016</td>\n",
       "      <td>388.457194</td>\n",
       "      <td>283.209</td>\n",
       "      <td>4.61982</td>\n",
       "    </tr>\n",
       "  </tbody>\n",
       "</table>\n",
       "<p>3251 rows × 15 columns</p>\n",
       "</div>"
      ],
      "text/plain": [
       "      Unnamed: 0    Id          CAS  \\\n",
       "0              0     1     100-00-5   \n",
       "1              1     2     100-01-6   \n",
       "3              3     4     100-11-8   \n",
       "6              6     7     100-13-0   \n",
       "7              7     8     100-14-1   \n",
       "...          ...   ...          ...   \n",
       "5759        5759  5767   20395-16-8   \n",
       "5760        5760  5768   34718-47-3   \n",
       "5761        5761  5769   43204-63-3   \n",
       "5762        5762  5770   52583-35-4   \n",
       "5763        5763  5771  188021-38-7   \n",
       "\n",
       "                                                 SMILES    Status  \\\n",
       "0                              O=[N+]([O-])c1ccc(cc1)Cl  Training   \n",
       "1                               O=[N+]([O-])c1ccc(N)cc1  Training   \n",
       "3                             O=[N+]([O-])c1ccc(cc1)CBr  Training   \n",
       "6                             O=[N+]([O-])c1ccc(C=C)cc1  Training   \n",
       "7                             O=[N+]([O-])c1ccc(cc1)CCl  Training   \n",
       "...                                                 ...       ...   \n",
       "5759               O=C1N(C(=O)N(C(=O)N1CC=C)CC2OC2)CC=C  Training   \n",
       "5760                                 O=C(C(Br)(Br)Br)Cl  Training   \n",
       "5761                                        N(CCBr)CCBr  Training   \n",
       "5762  N#Cc2cc(cc(c2(N=Nc1ccc(cc1(NC(=O)C))N(CCOC)CCO...  Training   \n",
       "5763                     O(c1c(cc(cc1Br)C)C(C)(C)C)CC=C  Training   \n",
       "\n",
       "      Experimental value Predicted value  NumValenceElectrons       qed  \\\n",
       "0                      1               1                   52  0.463602   \n",
       "1                      1               1                   52  0.359544   \n",
       "3                      1               0                   58  0.432586   \n",
       "6                      1               0                   56  0.477660   \n",
       "7                      1               1                   58  0.389482   \n",
       "...                  ...             ...                  ...       ...   \n",
       "5759                   1               0                  102  0.485090   \n",
       "5760                   1               1                   42  0.495987   \n",
       "5761                   1               1                   44  0.568556   \n",
       "5762                   1               1                  184  0.264581   \n",
       "5763                   1               0                   88  0.735392   \n",
       "\n",
       "        TPSA     MolMR  BalabanJ      BertzCT    MolWt  MolLogP  \n",
       "0      43.14   38.1064  3.003401   244.429658  157.556  2.24820  \n",
       "1      69.16   37.5088  3.003401   242.429658  138.126  1.17700  \n",
       "3      43.14   45.7274  2.913802   257.648013  216.034  2.48970  \n",
       "6      43.14   43.1874  3.000887   276.648462  149.149  2.23780  \n",
       "7      43.14   42.6534  2.913802   257.648013  171.583  2.33360  \n",
       "...      ...       ...       ...          ...      ...      ...  \n",
       "5759   78.53   69.3560  2.668492   627.435628  265.269 -1.05750  \n",
       "5760   17.07   40.3720  3.791118    85.425922  315.186  2.59030  \n",
       "5761   12.03   40.4577  2.447473    28.870765  230.931  1.36580  \n",
       "5762  185.59  125.3525  2.552977  1169.342047  485.457  3.84768  \n",
       "5763    9.23   73.2710  3.263016   388.457194  283.209  4.61982  \n",
       "\n",
       "[3251 rows x 15 columns]"
      ]
     },
     "execution_count": 9,
     "metadata": {},
     "output_type": "execute_result"
    }
   ],
   "source": [
    "# Acessando e guardando valores da coluna Valores experimentais com resultados iguais a 1 (positivo)\n",
    "\n",
    "dados_mutagenicos = data[data['Experimental value'] == 1]\n",
    "dados_mutagenicos"
   ]
  },
  {
   "cell_type": "code",
   "execution_count": 10,
   "id": "eba270d6",
   "metadata": {},
   "outputs": [
    {
     "data": {
      "text/plain": [
       "0       1\n",
       "1       1\n",
       "2       1\n",
       "3       0\n",
       "4       0\n",
       "       ..\n",
       "5759    0\n",
       "5760    1\n",
       "5761    1\n",
       "5762    1\n",
       "5763    0\n",
       "Name: Predicted value, Length: 5764, dtype: object"
      ]
     },
     "execution_count": 10,
     "metadata": {},
     "output_type": "execute_result"
    }
   ],
   "source": [
    "data['Predicted value']"
   ]
  },
  {
   "cell_type": "code",
   "execution_count": 11,
   "id": "bb5e4930",
   "metadata": {},
   "outputs": [
    {
     "data": {
      "text/plain": [
       "array(['1', '0', 'Non Predicted'], dtype=object)"
      ]
     },
     "execution_count": 11,
     "metadata": {},
     "output_type": "execute_result"
    }
   ],
   "source": [
    "# Verificando os valores dentro da coluna\n",
    "\n",
    "data['Predicted value'].unique()"
   ]
  },
  {
   "cell_type": "code",
   "execution_count": 12,
   "id": "1e733c44",
   "metadata": {},
   "outputs": [
    {
     "data": {
      "text/plain": [
       "0                   1\n",
       "3                   0\n",
       "1844    Non Predicted\n",
       "Name: Predicted value, dtype: object"
      ]
     },
     "execution_count": 12,
     "metadata": {},
     "output_type": "execute_result"
    }
   ],
   "source": [
    "data['Predicted value'].drop_duplicates()"
   ]
  },
  {
   "cell_type": "code",
   "execution_count": 13,
   "id": "776c36b4",
   "metadata": {},
   "outputs": [
    {
     "data": {
      "text/html": [
       "<div>\n",
       "<style scoped>\n",
       "    .dataframe tbody tr th:only-of-type {\n",
       "        vertical-align: middle;\n",
       "    }\n",
       "\n",
       "    .dataframe tbody tr th {\n",
       "        vertical-align: top;\n",
       "    }\n",
       "\n",
       "    .dataframe thead th {\n",
       "        text-align: right;\n",
       "    }\n",
       "</style>\n",
       "<table border=\"1\" class=\"dataframe\">\n",
       "  <thead>\n",
       "    <tr style=\"text-align: right;\">\n",
       "      <th></th>\n",
       "      <th>Unnamed: 0</th>\n",
       "      <th>Id</th>\n",
       "      <th>CAS</th>\n",
       "      <th>SMILES</th>\n",
       "      <th>Status</th>\n",
       "      <th>Experimental value</th>\n",
       "      <th>Predicted value</th>\n",
       "      <th>NumValenceElectrons</th>\n",
       "      <th>qed</th>\n",
       "      <th>TPSA</th>\n",
       "      <th>MolMR</th>\n",
       "      <th>BalabanJ</th>\n",
       "      <th>BertzCT</th>\n",
       "      <th>MolWt</th>\n",
       "      <th>MolLogP</th>\n",
       "    </tr>\n",
       "  </thead>\n",
       "  <tbody>\n",
       "    <tr>\n",
       "      <th>1844</th>\n",
       "      <td>1844</td>\n",
       "      <td>1846</td>\n",
       "      <td>16709-86-7</td>\n",
       "      <td>C=C[Si](C)(C)CCl</td>\n",
       "      <td>Training</td>\n",
       "      <td>0</td>\n",
       "      <td>Non Predicted</td>\n",
       "      <td>42</td>\n",
       "      <td>0.401439</td>\n",
       "      <td>0.00</td>\n",
       "      <td>38.399</td>\n",
       "      <td>3.575471</td>\n",
       "      <td>68.480406</td>\n",
       "      <td>134.682</td>\n",
       "      <td>2.19800</td>\n",
       "    </tr>\n",
       "    <tr>\n",
       "      <th>2194</th>\n",
       "      <td>2194</td>\n",
       "      <td>2197</td>\n",
       "      <td>2179-59-1</td>\n",
       "      <td>C=CCSSCCC</td>\n",
       "      <td>Training</td>\n",
       "      <td>0</td>\n",
       "      <td>Non Predicted</td>\n",
       "      <td>48</td>\n",
       "      <td>0.333839</td>\n",
       "      <td>0.00</td>\n",
       "      <td>45.404</td>\n",
       "      <td>2.616293</td>\n",
       "      <td>52.490225</td>\n",
       "      <td>148.296</td>\n",
       "      <td>2.96380</td>\n",
       "    </tr>\n",
       "    <tr>\n",
       "      <th>4118</th>\n",
       "      <td>4118</td>\n",
       "      <td>4125</td>\n",
       "      <td>624-92-0</td>\n",
       "      <td>CSSC</td>\n",
       "      <td>Training</td>\n",
       "      <td>0</td>\n",
       "      <td>Non Predicted</td>\n",
       "      <td>26</td>\n",
       "      <td>0.452840</td>\n",
       "      <td>0.00</td>\n",
       "      <td>27.030</td>\n",
       "      <td>1.974745</td>\n",
       "      <td>6.000000</td>\n",
       "      <td>94.204</td>\n",
       "      <td>1.62740</td>\n",
       "    </tr>\n",
       "    <tr>\n",
       "      <th>4180</th>\n",
       "      <td>4180</td>\n",
       "      <td>4187</td>\n",
       "      <td>6317-18-6</td>\n",
       "      <td>N#CSCSC#N</td>\n",
       "      <td>Training</td>\n",
       "      <td>0</td>\n",
       "      <td>Non Predicted</td>\n",
       "      <td>36</td>\n",
       "      <td>0.321595</td>\n",
       "      <td>47.58</td>\n",
       "      <td>31.275</td>\n",
       "      <td>2.768386</td>\n",
       "      <td>95.083765</td>\n",
       "      <td>130.197</td>\n",
       "      <td>1.37246</td>\n",
       "    </tr>\n",
       "    <tr>\n",
       "      <th>5633</th>\n",
       "      <td>5633</td>\n",
       "      <td>5641</td>\n",
       "      <td>7783-54-2</td>\n",
       "      <td>FN(F)F</td>\n",
       "      <td>Training</td>\n",
       "      <td>1</td>\n",
       "      <td>Non Predicted</td>\n",
       "      <td>26</td>\n",
       "      <td>0.383980</td>\n",
       "      <td>3.24</td>\n",
       "      <td>5.163</td>\n",
       "      <td>2.323790</td>\n",
       "      <td>8.000000</td>\n",
       "      <td>71.001</td>\n",
       "      <td>0.94190</td>\n",
       "    </tr>\n",
       "    <tr>\n",
       "      <th>5655</th>\n",
       "      <td>5655</td>\n",
       "      <td>5663</td>\n",
       "      <td>676-83-5</td>\n",
       "      <td>CP(Cl)Cl</td>\n",
       "      <td>Training</td>\n",
       "      <td>1</td>\n",
       "      <td>Non Predicted</td>\n",
       "      <td>26</td>\n",
       "      <td>0.426990</td>\n",
       "      <td>0.00</td>\n",
       "      <td>24.550</td>\n",
       "      <td>2.323790</td>\n",
       "      <td>10.754888</td>\n",
       "      <td>116.915</td>\n",
       "      <td>2.40570</td>\n",
       "    </tr>\n",
       "  </tbody>\n",
       "</table>\n",
       "</div>"
      ],
      "text/plain": [
       "      Unnamed: 0    Id         CAS            SMILES    Status  \\\n",
       "1844        1844  1846  16709-86-7  C=C[Si](C)(C)CCl  Training   \n",
       "2194        2194  2197   2179-59-1         C=CCSSCCC  Training   \n",
       "4118        4118  4125    624-92-0              CSSC  Training   \n",
       "4180        4180  4187   6317-18-6         N#CSCSC#N  Training   \n",
       "5633        5633  5641   7783-54-2            FN(F)F  Training   \n",
       "5655        5655  5663    676-83-5          CP(Cl)Cl  Training   \n",
       "\n",
       "      Experimental value Predicted value  NumValenceElectrons       qed  \\\n",
       "1844                   0   Non Predicted                   42  0.401439   \n",
       "2194                   0   Non Predicted                   48  0.333839   \n",
       "4118                   0   Non Predicted                   26  0.452840   \n",
       "4180                   0   Non Predicted                   36  0.321595   \n",
       "5633                   1   Non Predicted                   26  0.383980   \n",
       "5655                   1   Non Predicted                   26  0.426990   \n",
       "\n",
       "       TPSA   MolMR  BalabanJ    BertzCT    MolWt  MolLogP  \n",
       "1844   0.00  38.399  3.575471  68.480406  134.682  2.19800  \n",
       "2194   0.00  45.404  2.616293  52.490225  148.296  2.96380  \n",
       "4118   0.00  27.030  1.974745   6.000000   94.204  1.62740  \n",
       "4180  47.58  31.275  2.768386  95.083765  130.197  1.37246  \n",
       "5633   3.24   5.163  2.323790   8.000000   71.001  0.94190  \n",
       "5655   0.00  24.550  2.323790  10.754888  116.915  2.40570  "
      ]
     },
     "execution_count": 13,
     "metadata": {},
     "output_type": "execute_result"
    }
   ],
   "source": [
    "# Aqui vamos ter acesso os valores que não são nem \"0\" e nem \"1\"\n",
    "# Têm-se que 6 valores do dataset não possuem \"Predicted value\"\n",
    "\n",
    "data[(data['Predicted value'] != \"0\") & (data['Predicted value'] != \"1\")] "
   ]
  },
  {
   "cell_type": "code",
   "execution_count": 14,
   "id": "9b44d389",
   "metadata": {},
   "outputs": [],
   "source": [
    "# Procurando os dados que não possuem valores iguais a \"0\" e \"1\" para a coluna \"Predicted value\"\n",
    "# E tirando os valores que não são \"0\" e \"1\" com a funcao drop\n",
    "\n",
    "dados_non_predicted = data[(data['Predicted value'] != \"0\") & (data['Predicted value'] != \"1\")].index\n",
    "data = data.drop(dados_non_predicted)"
   ]
  },
  {
   "cell_type": "code",
   "execution_count": 15,
   "id": "b4509ee6",
   "metadata": {},
   "outputs": [
    {
     "data": {
      "text/plain": [
       "(5758, 15)"
      ]
     },
     "execution_count": 15,
     "metadata": {},
     "output_type": "execute_result"
    }
   ],
   "source": [
    "data.shape"
   ]
  },
  {
   "cell_type": "code",
   "execution_count": 16,
   "id": "160f651d",
   "metadata": {},
   "outputs": [
    {
     "data": {
      "text/plain": [
       "Index(['Unnamed: 0', 'Id', 'CAS', 'SMILES', 'Status', 'Experimental value',\n",
       "       'Predicted value', 'NumValenceElectrons', 'qed', 'TPSA', 'MolMR',\n",
       "       'BalabanJ', 'BertzCT', 'MolWt', 'MolLogP'],\n",
       "      dtype='object')"
      ]
     },
     "execution_count": 16,
     "metadata": {},
     "output_type": "execute_result"
    }
   ],
   "source": [
    "data.columns"
   ]
  },
  {
   "cell_type": "code",
   "execution_count": 17,
   "id": "ac6b05d7",
   "metadata": {},
   "outputs": [],
   "source": [
    "# Tirando as colunas desnecessárias com a funcao drop\n",
    "\n",
    "colunas_desnecessarias = ['Unnamed: 0', 'Id', 'CAS', 'SMILES', 'Status', 'Experimental value',\n",
    "       'Predicted value']\n",
    "\n",
    "data_backup = data\n",
    "data = data.drop(colunas_desnecessarias, axis=1)"
   ]
  },
  {
   "cell_type": "code",
   "execution_count": 18,
   "id": "63a263a1",
   "metadata": {},
   "outputs": [
    {
     "data": {
      "text/html": [
       "<div>\n",
       "<style scoped>\n",
       "    .dataframe tbody tr th:only-of-type {\n",
       "        vertical-align: middle;\n",
       "    }\n",
       "\n",
       "    .dataframe tbody tr th {\n",
       "        vertical-align: top;\n",
       "    }\n",
       "\n",
       "    .dataframe thead th {\n",
       "        text-align: right;\n",
       "    }\n",
       "</style>\n",
       "<table border=\"1\" class=\"dataframe\">\n",
       "  <thead>\n",
       "    <tr style=\"text-align: right;\">\n",
       "      <th></th>\n",
       "      <th>NumValenceElectrons</th>\n",
       "      <th>qed</th>\n",
       "      <th>TPSA</th>\n",
       "      <th>MolMR</th>\n",
       "      <th>BalabanJ</th>\n",
       "      <th>BertzCT</th>\n",
       "      <th>MolWt</th>\n",
       "      <th>MolLogP</th>\n",
       "    </tr>\n",
       "  </thead>\n",
       "  <tbody>\n",
       "    <tr>\n",
       "      <th>0</th>\n",
       "      <td>52</td>\n",
       "      <td>0.463602</td>\n",
       "      <td>43.14</td>\n",
       "      <td>38.1064</td>\n",
       "      <td>3.003401</td>\n",
       "      <td>244.429658</td>\n",
       "      <td>157.556</td>\n",
       "      <td>2.2482</td>\n",
       "    </tr>\n",
       "    <tr>\n",
       "      <th>1</th>\n",
       "      <td>52</td>\n",
       "      <td>0.359544</td>\n",
       "      <td>69.16</td>\n",
       "      <td>37.5088</td>\n",
       "      <td>3.003401</td>\n",
       "      <td>242.429658</td>\n",
       "      <td>138.126</td>\n",
       "      <td>1.1770</td>\n",
       "    </tr>\n",
       "    <tr>\n",
       "      <th>2</th>\n",
       "      <td>52</td>\n",
       "      <td>0.470728</td>\n",
       "      <td>63.37</td>\n",
       "      <td>34.7612</td>\n",
       "      <td>3.003401</td>\n",
       "      <td>241.674771</td>\n",
       "      <td>139.110</td>\n",
       "      <td>1.3004</td>\n",
       "    </tr>\n",
       "    <tr>\n",
       "      <th>3</th>\n",
       "      <td>58</td>\n",
       "      <td>0.432586</td>\n",
       "      <td>43.14</td>\n",
       "      <td>45.7274</td>\n",
       "      <td>2.913802</td>\n",
       "      <td>257.648013</td>\n",
       "      <td>216.034</td>\n",
       "      <td>2.4897</td>\n",
       "    </tr>\n",
       "    <tr>\n",
       "      <th>4</th>\n",
       "      <td>58</td>\n",
       "      <td>0.479785</td>\n",
       "      <td>43.14</td>\n",
       "      <td>42.4744</td>\n",
       "      <td>2.913802</td>\n",
       "      <td>253.299498</td>\n",
       "      <td>151.165</td>\n",
       "      <td>2.1572</td>\n",
       "    </tr>\n",
       "  </tbody>\n",
       "</table>\n",
       "</div>"
      ],
      "text/plain": [
       "   NumValenceElectrons       qed   TPSA    MolMR  BalabanJ     BertzCT  \\\n",
       "0                   52  0.463602  43.14  38.1064  3.003401  244.429658   \n",
       "1                   52  0.359544  69.16  37.5088  3.003401  242.429658   \n",
       "2                   52  0.470728  63.37  34.7612  3.003401  241.674771   \n",
       "3                   58  0.432586  43.14  45.7274  2.913802  257.648013   \n",
       "4                   58  0.479785  43.14  42.4744  2.913802  253.299498   \n",
       "\n",
       "     MolWt  MolLogP  \n",
       "0  157.556   2.2482  \n",
       "1  138.126   1.1770  \n",
       "2  139.110   1.3004  \n",
       "3  216.034   2.4897  \n",
       "4  151.165   2.1572  "
      ]
     },
     "execution_count": 18,
     "metadata": {},
     "output_type": "execute_result"
    }
   ],
   "source": [
    "data.head()"
   ]
  },
  {
   "cell_type": "code",
   "execution_count": 19,
   "id": "a0f5ba2e",
   "metadata": {},
   "outputs": [
    {
     "data": {
      "text/plain": [
       "2672"
      ]
     },
     "execution_count": 19,
     "metadata": {},
     "output_type": "execute_result"
    }
   ],
   "source": [
    "# Exercicio do curso: How many molecules in our dataset have a qed less than 0.5?\n",
    "\n",
    "qed_5 = data[data['qed'] < 0.5]\n",
    "qed_5['qed'].value_counts().sum()"
   ]
  },
  {
   "cell_type": "code",
   "execution_count": 20,
   "id": "a07dac00",
   "metadata": {},
   "outputs": [
    {
     "data": {
      "text/plain": [
       "1550.1879999999996"
      ]
     },
     "execution_count": 20,
     "metadata": {},
     "output_type": "execute_result"
    }
   ],
   "source": [
    "# Exercicio do curso: What is the molecule with the largest molecular weight MolWt?\n",
    "\n",
    "data['MolWt'].max()"
   ]
  },
  {
   "cell_type": "code",
   "execution_count": 21,
   "id": "217e81ab",
   "metadata": {},
   "outputs": [
    {
     "data": {
      "text/plain": [
       "87.03108718304966"
      ]
     },
     "execution_count": 21,
     "metadata": {},
     "output_type": "execute_result"
    }
   ],
   "source": [
    "# Exercicio do curso: What is the average number of valance electrons NumValenceElectrons of the molecules in our dataset?\n",
    "\n",
    "data['NumValenceElectrons'].mean()"
   ]
  },
  {
   "cell_type": "code",
   "execution_count": 22,
   "id": "081bd3a8",
   "metadata": {},
   "outputs": [],
   "source": [
    "X = data"
   ]
  },
  {
   "cell_type": "markdown",
   "id": "22a8374d",
   "metadata": {},
   "source": [
    "# 3. Feature Engineering"
   ]
  },
  {
   "cell_type": "code",
   "execution_count": 23,
   "id": "d1fa9190",
   "metadata": {},
   "outputs": [],
   "source": [
    "from sklearn.preprocessing import StandardScaler"
   ]
  },
  {
   "cell_type": "code",
   "execution_count": 24,
   "id": "fdef62cd",
   "metadata": {},
   "outputs": [
    {
     "data": {
      "text/plain": [
       "StandardScaler()"
      ]
     },
     "execution_count": 24,
     "metadata": {},
     "output_type": "execute_result"
    }
   ],
   "source": [
    "scaler = StandardScaler()\n",
    "scaler.fit(X)"
   ]
  },
  {
   "cell_type": "code",
   "execution_count": 25,
   "id": "ed04c06a",
   "metadata": {},
   "outputs": [
    {
     "data": {
      "text/plain": [
       "array([[-0.82233916, -0.30469594, -0.24799507, ..., -0.73084025,\n",
       "        -0.72114687, -0.17433149],\n",
       "       [-0.82233916, -0.93207944,  0.35640473, ..., -0.73613157,\n",
       "        -0.88855579, -0.72662586],\n",
       "       [-0.82233916, -0.26173162,  0.221913  , ..., -0.73812874,\n",
       "        -0.88007765, -0.6630027 ],\n",
       "       ...,\n",
       "       [-1.01013559,  0.32808674, -0.97062682, ..., -1.30113579,\n",
       "        -0.08894773, -0.62928346],\n",
       "       [ 2.27630201, -1.50462555,  3.06087321, ...,  1.71616346,\n",
       "         2.10404877,  0.65033598],\n",
       "       [ 0.0227448 ,  1.33396517, -1.035666  , ..., -0.34979236,\n",
       "         0.36147962,  1.04843958]])"
      ]
     },
     "execution_count": 25,
     "metadata": {},
     "output_type": "execute_result"
    }
   ],
   "source": [
    "X_hat = scaler.transform(X)\n",
    "X_hat # X_hat é o dataframe já com o StandardScaler"
   ]
  },
  {
   "cell_type": "code",
   "execution_count": 26,
   "id": "55714720",
   "metadata": {},
   "outputs": [],
   "source": [
    "X_hat_backup = X_hat"
   ]
  },
  {
   "cell_type": "code",
   "execution_count": 27,
   "id": "db630ab7",
   "metadata": {},
   "outputs": [],
   "source": [
    "# Exercicio curso: What are exactly the mean an standard deviation vectors that we used to scaled the data?\n",
    "\n"
   ]
  },
  {
   "cell_type": "code",
   "execution_count": 28,
   "id": "346c7815",
   "metadata": {},
   "outputs": [
    {
     "data": {
      "text/html": [
       "<div>\n",
       "<style scoped>\n",
       "    .dataframe tbody tr th:only-of-type {\n",
       "        vertical-align: middle;\n",
       "    }\n",
       "\n",
       "    .dataframe tbody tr th {\n",
       "        vertical-align: top;\n",
       "    }\n",
       "\n",
       "    .dataframe thead th {\n",
       "        text-align: right;\n",
       "    }\n",
       "</style>\n",
       "<table border=\"1\" class=\"dataframe\">\n",
       "  <thead>\n",
       "    <tr style=\"text-align: right;\">\n",
       "      <th></th>\n",
       "      <th>Unnamed: 0</th>\n",
       "      <th>Id</th>\n",
       "      <th>CAS</th>\n",
       "      <th>SMILES</th>\n",
       "      <th>Status</th>\n",
       "      <th>Experimental value</th>\n",
       "      <th>Predicted value</th>\n",
       "      <th>NumValenceElectrons</th>\n",
       "      <th>qed</th>\n",
       "      <th>TPSA</th>\n",
       "      <th>MolMR</th>\n",
       "      <th>BalabanJ</th>\n",
       "      <th>BertzCT</th>\n",
       "      <th>MolWt</th>\n",
       "      <th>MolLogP</th>\n",
       "    </tr>\n",
       "  </thead>\n",
       "  <tbody>\n",
       "    <tr>\n",
       "      <th>0</th>\n",
       "      <td>0</td>\n",
       "      <td>1</td>\n",
       "      <td>100-00-5</td>\n",
       "      <td>O=[N+]([O-])c1ccc(cc1)Cl</td>\n",
       "      <td>Training</td>\n",
       "      <td>1</td>\n",
       "      <td>1</td>\n",
       "      <td>52</td>\n",
       "      <td>0.463602</td>\n",
       "      <td>43.14</td>\n",
       "      <td>38.1064</td>\n",
       "      <td>3.003401</td>\n",
       "      <td>244.429658</td>\n",
       "      <td>157.556</td>\n",
       "      <td>2.2482</td>\n",
       "    </tr>\n",
       "    <tr>\n",
       "      <th>1</th>\n",
       "      <td>1</td>\n",
       "      <td>2</td>\n",
       "      <td>100-01-6</td>\n",
       "      <td>O=[N+]([O-])c1ccc(N)cc1</td>\n",
       "      <td>Training</td>\n",
       "      <td>1</td>\n",
       "      <td>1</td>\n",
       "      <td>52</td>\n",
       "      <td>0.359544</td>\n",
       "      <td>69.16</td>\n",
       "      <td>37.5088</td>\n",
       "      <td>3.003401</td>\n",
       "      <td>242.429658</td>\n",
       "      <td>138.126</td>\n",
       "      <td>1.1770</td>\n",
       "    </tr>\n",
       "    <tr>\n",
       "      <th>2</th>\n",
       "      <td>2</td>\n",
       "      <td>3</td>\n",
       "      <td>100-02-7</td>\n",
       "      <td>O=[N+]([O-])c1ccc(O)cc1</td>\n",
       "      <td>Training</td>\n",
       "      <td>0</td>\n",
       "      <td>1</td>\n",
       "      <td>52</td>\n",
       "      <td>0.470728</td>\n",
       "      <td>63.37</td>\n",
       "      <td>34.7612</td>\n",
       "      <td>3.003401</td>\n",
       "      <td>241.674771</td>\n",
       "      <td>139.110</td>\n",
       "      <td>1.3004</td>\n",
       "    </tr>\n",
       "    <tr>\n",
       "      <th>3</th>\n",
       "      <td>3</td>\n",
       "      <td>4</td>\n",
       "      <td>100-11-8</td>\n",
       "      <td>O=[N+]([O-])c1ccc(cc1)CBr</td>\n",
       "      <td>Training</td>\n",
       "      <td>1</td>\n",
       "      <td>0</td>\n",
       "      <td>58</td>\n",
       "      <td>0.432586</td>\n",
       "      <td>43.14</td>\n",
       "      <td>45.7274</td>\n",
       "      <td>2.913802</td>\n",
       "      <td>257.648013</td>\n",
       "      <td>216.034</td>\n",
       "      <td>2.4897</td>\n",
       "    </tr>\n",
       "    <tr>\n",
       "      <th>4</th>\n",
       "      <td>4</td>\n",
       "      <td>5</td>\n",
       "      <td>100-12-9</td>\n",
       "      <td>O=[N+]([O-])c1ccc(cc1)CC</td>\n",
       "      <td>Training</td>\n",
       "      <td>0</td>\n",
       "      <td>0</td>\n",
       "      <td>58</td>\n",
       "      <td>0.479785</td>\n",
       "      <td>43.14</td>\n",
       "      <td>42.4744</td>\n",
       "      <td>2.913802</td>\n",
       "      <td>253.299498</td>\n",
       "      <td>151.165</td>\n",
       "      <td>2.1572</td>\n",
       "    </tr>\n",
       "  </tbody>\n",
       "</table>\n",
       "</div>"
      ],
      "text/plain": [
       "   Unnamed: 0  Id       CAS                     SMILES    Status  \\\n",
       "0           0   1  100-00-5   O=[N+]([O-])c1ccc(cc1)Cl  Training   \n",
       "1           1   2  100-01-6    O=[N+]([O-])c1ccc(N)cc1  Training   \n",
       "2           2   3  100-02-7    O=[N+]([O-])c1ccc(O)cc1  Training   \n",
       "3           3   4  100-11-8  O=[N+]([O-])c1ccc(cc1)CBr  Training   \n",
       "4           4   5  100-12-9   O=[N+]([O-])c1ccc(cc1)CC  Training   \n",
       "\n",
       "   Experimental value Predicted value  NumValenceElectrons       qed   TPSA  \\\n",
       "0                   1               1                   52  0.463602  43.14   \n",
       "1                   1               1                   52  0.359544  69.16   \n",
       "2                   0               1                   52  0.470728  63.37   \n",
       "3                   1               0                   58  0.432586  43.14   \n",
       "4                   0               0                   58  0.479785  43.14   \n",
       "\n",
       "     MolMR  BalabanJ     BertzCT    MolWt  MolLogP  \n",
       "0  38.1064  3.003401  244.429658  157.556   2.2482  \n",
       "1  37.5088  3.003401  242.429658  138.126   1.1770  \n",
       "2  34.7612  3.003401  241.674771  139.110   1.3004  \n",
       "3  45.7274  2.913802  257.648013  216.034   2.4897  \n",
       "4  42.4744  2.913802  253.299498  151.165   2.1572  "
      ]
     },
     "execution_count": 28,
     "metadata": {},
     "output_type": "execute_result"
    }
   ],
   "source": [
    "data_backup.head()"
   ]
  },
  {
   "cell_type": "code",
   "execution_count": 29,
   "id": "921fc644",
   "metadata": {},
   "outputs": [],
   "source": [
    "y = data_backup['Experimental value'].to_numpy() # A funcao to_numpy() retorna um array com os valores\n",
    "mutacao_genetica_perc = (y.sum()/len(y))*100"
   ]
  },
  {
   "cell_type": "code",
   "execution_count": 30,
   "id": "269fc7bd",
   "metadata": {},
   "outputs": [
    {
     "name": "stdout",
     "output_type": "stream",
     "text": [
      "Porcentagem de moléculas mutagênicas: 56.42584230635638\n",
      "Porcentagem de moléculas não mutagênicas: 43.57415769364362\n"
     ]
    }
   ],
   "source": [
    "print(f\"Porcentagem de moléculas mutagênicas: {mutacao_genetica_perc}\")\n",
    "print(f\"Porcentagem de moléculas não mutagênicas: {100-mutacao_genetica_perc}\")"
   ]
  },
  {
   "cell_type": "markdown",
   "id": "02c1605f",
   "metadata": {},
   "source": [
    "# 4. Aplicando a Machine Learning"
   ]
  },
  {
   "cell_type": "code",
   "execution_count": 31,
   "id": "5bd36867",
   "metadata": {},
   "outputs": [],
   "source": [
    "# importando a biblioteca train_test_split from sklearn.model_selection para aplicação da machine learning\n",
    "# dividindo os valores para a machine learning\n",
    "\n",
    "from sklearn.model_selection import train_test_split\n",
    "\n",
    "X_train, X_test, y_train, y_test = train_test_split(X_hat, y, test_size=0.2, random_state=0)"
   ]
  },
  {
   "cell_type": "code",
   "execution_count": 32,
   "id": "4af12cad",
   "metadata": {},
   "outputs": [
    {
     "name": "stdout",
     "output_type": "stream",
     "text": [
      "Y dados de Treino: (4606,)\n",
      "Y dados de Teste:  (1152,)\n"
     ]
    }
   ],
   "source": [
    "print(f\"Y dados de Treino: {y_train.shape}\")\n",
    "print(f\"Y dados de Teste:  {y_test.shape}\")"
   ]
  },
  {
   "cell_type": "code",
   "execution_count": 33,
   "id": "1d4fb235",
   "metadata": {},
   "outputs": [
    {
     "name": "stdout",
     "output_type": "stream",
     "text": [
      "X dados de Treino: (4606, 8)\n",
      "X dados de Teste:  (1152, 8)\n"
     ]
    }
   ],
   "source": [
    "print(f\"X dados de Treino: {X_train.shape}\")\n",
    "print(f\"X dados de Teste:  {X_test.shape}\")"
   ]
  },
  {
   "cell_type": "code",
   "execution_count": 34,
   "id": "f2244151",
   "metadata": {},
   "outputs": [],
   "source": [
    "# importando a biblioteca kNN para aplicação do modelo\n",
    "\n",
    "from sklearn.neighbors import KNeighborsClassifier"
   ]
  },
  {
   "cell_type": "code",
   "execution_count": 35,
   "id": "7becd360",
   "metadata": {},
   "outputs": [],
   "source": [
    "knn = KNeighborsClassifier(n_neighbors=3)"
   ]
  },
  {
   "cell_type": "code",
   "execution_count": 36,
   "id": "d95581a8",
   "metadata": {},
   "outputs": [
    {
     "data": {
      "text/plain": [
       "KNeighborsClassifier(n_neighbors=3)"
      ]
     },
     "execution_count": 36,
     "metadata": {},
     "output_type": "execute_result"
    }
   ],
   "source": [
    "knn.fit(X_train, y_train)"
   ]
  },
  {
   "cell_type": "code",
   "execution_count": 37,
   "id": "4a12c126",
   "metadata": {},
   "outputs": [],
   "source": [
    "y_pred = knn.predict(X_test)"
   ]
  },
  {
   "cell_type": "markdown",
   "id": "df38afb5",
   "metadata": {},
   "source": [
    "# 5. Avaliação da Machine Learning "
   ]
  },
  {
   "cell_type": "markdown",
   "id": "21420c50",
   "metadata": {},
   "source": [
    "## 5.1. kNN-Neighbors"
   ]
  },
  {
   "cell_type": "code",
   "execution_count": 38,
   "id": "2a8876fe",
   "metadata": {},
   "outputs": [],
   "source": [
    "from sklearn.metrics import (confusion_matrix, accuracy_score, recall_score, f1_score, roc_auc_score, ConfusionMatrixDisplay, precision_score)"
   ]
  },
  {
   "cell_type": "code",
   "execution_count": 39,
   "id": "aa5544fa",
   "metadata": {},
   "outputs": [
    {
     "data": {
      "image/png": "[encoded data removed]",
      "text/plain": [
       "<Figure size 432x288 with 2 Axes>"
      ]
     },
     "metadata": {
      "needs_background": "light"
     },
     "output_type": "display_data"
    }
   ],
   "source": [
    "# Confusion_matrix\n",
    "\n",
    "cm = confusion_matrix(y_test, y_pred)\n",
    "\n",
    "sns.heatmap(cm, cmap='OrRd', annot=True, fmt='2.0f')\n",
    "plt.title('kNN-Neigbors')\n",
    "plt.ylabel('P R E V I S T O')\n",
    "plt.xlabel('R E A L')\n",
    "plt.show()"
   ]
  },
  {
   "cell_type": "code",
   "execution_count": 40,
   "id": "3596f917",
   "metadata": {},
   "outputs": [
    {
     "name": "stdout",
     "output_type": "stream",
     "text": [
      "kNN-Neighbors - Metrics\n",
      "Acurácia: 0.73\n",
      "Precisão: 0.74\n",
      "Recall: 0.78\n",
      "F1: 0.76\n"
     ]
    }
   ],
   "source": [
    "print(\"kNN-Neighbors - Metrics\")\n",
    "print(f\"Acurácia: {accuracy_score(y_test, y_pred).round(2)}\")\n",
    "print(f\"Precisão: {precision_score(y_test, y_pred).round(2)}\")\n",
    "print(f\"Recall: {recall_score(y_test, y_pred).round(2)}\")\n",
    "print(f\"F1: {f1_score(y_test, y_pred).round(2)}\")"
   ]
  },
  {
   "cell_type": "markdown",
   "id": "77542cb7",
   "metadata": {},
   "source": [
    "## 5.2. VEGA"
   ]
  },
  {
   "cell_type": "code",
   "execution_count": 41,
   "id": "b78744f3",
   "metadata": {},
   "outputs": [
    {
     "data": {
      "text/html": [
       "<div>\n",
       "<style scoped>\n",
       "    .dataframe tbody tr th:only-of-type {\n",
       "        vertical-align: middle;\n",
       "    }\n",
       "\n",
       "    .dataframe tbody tr th {\n",
       "        vertical-align: top;\n",
       "    }\n",
       "\n",
       "    .dataframe thead th {\n",
       "        text-align: right;\n",
       "    }\n",
       "</style>\n",
       "<table border=\"1\" class=\"dataframe\">\n",
       "  <thead>\n",
       "    <tr style=\"text-align: right;\">\n",
       "      <th></th>\n",
       "      <th>Unnamed: 0</th>\n",
       "      <th>Id</th>\n",
       "      <th>CAS</th>\n",
       "      <th>SMILES</th>\n",
       "      <th>Status</th>\n",
       "      <th>Experimental value</th>\n",
       "      <th>Predicted value</th>\n",
       "      <th>NumValenceElectrons</th>\n",
       "      <th>qed</th>\n",
       "      <th>TPSA</th>\n",
       "      <th>MolMR</th>\n",
       "      <th>BalabanJ</th>\n",
       "      <th>BertzCT</th>\n",
       "      <th>MolWt</th>\n",
       "      <th>MolLogP</th>\n",
       "    </tr>\n",
       "  </thead>\n",
       "  <tbody>\n",
       "    <tr>\n",
       "      <th>0</th>\n",
       "      <td>0</td>\n",
       "      <td>1</td>\n",
       "      <td>100-00-5</td>\n",
       "      <td>O=[N+]([O-])c1ccc(cc1)Cl</td>\n",
       "      <td>Training</td>\n",
       "      <td>1</td>\n",
       "      <td>1</td>\n",
       "      <td>52</td>\n",
       "      <td>0.463602</td>\n",
       "      <td>43.14</td>\n",
       "      <td>38.1064</td>\n",
       "      <td>3.003401</td>\n",
       "      <td>244.429658</td>\n",
       "      <td>157.556</td>\n",
       "      <td>2.2482</td>\n",
       "    </tr>\n",
       "    <tr>\n",
       "      <th>1</th>\n",
       "      <td>1</td>\n",
       "      <td>2</td>\n",
       "      <td>100-01-6</td>\n",
       "      <td>O=[N+]([O-])c1ccc(N)cc1</td>\n",
       "      <td>Training</td>\n",
       "      <td>1</td>\n",
       "      <td>1</td>\n",
       "      <td>52</td>\n",
       "      <td>0.359544</td>\n",
       "      <td>69.16</td>\n",
       "      <td>37.5088</td>\n",
       "      <td>3.003401</td>\n",
       "      <td>242.429658</td>\n",
       "      <td>138.126</td>\n",
       "      <td>1.1770</td>\n",
       "    </tr>\n",
       "    <tr>\n",
       "      <th>2</th>\n",
       "      <td>2</td>\n",
       "      <td>3</td>\n",
       "      <td>100-02-7</td>\n",
       "      <td>O=[N+]([O-])c1ccc(O)cc1</td>\n",
       "      <td>Training</td>\n",
       "      <td>0</td>\n",
       "      <td>1</td>\n",
       "      <td>52</td>\n",
       "      <td>0.470728</td>\n",
       "      <td>63.37</td>\n",
       "      <td>34.7612</td>\n",
       "      <td>3.003401</td>\n",
       "      <td>241.674771</td>\n",
       "      <td>139.110</td>\n",
       "      <td>1.3004</td>\n",
       "    </tr>\n",
       "    <tr>\n",
       "      <th>3</th>\n",
       "      <td>3</td>\n",
       "      <td>4</td>\n",
       "      <td>100-11-8</td>\n",
       "      <td>O=[N+]([O-])c1ccc(cc1)CBr</td>\n",
       "      <td>Training</td>\n",
       "      <td>1</td>\n",
       "      <td>0</td>\n",
       "      <td>58</td>\n",
       "      <td>0.432586</td>\n",
       "      <td>43.14</td>\n",
       "      <td>45.7274</td>\n",
       "      <td>2.913802</td>\n",
       "      <td>257.648013</td>\n",
       "      <td>216.034</td>\n",
       "      <td>2.4897</td>\n",
       "    </tr>\n",
       "    <tr>\n",
       "      <th>4</th>\n",
       "      <td>4</td>\n",
       "      <td>5</td>\n",
       "      <td>100-12-9</td>\n",
       "      <td>O=[N+]([O-])c1ccc(cc1)CC</td>\n",
       "      <td>Training</td>\n",
       "      <td>0</td>\n",
       "      <td>0</td>\n",
       "      <td>58</td>\n",
       "      <td>0.479785</td>\n",
       "      <td>43.14</td>\n",
       "      <td>42.4744</td>\n",
       "      <td>2.913802</td>\n",
       "      <td>253.299498</td>\n",
       "      <td>151.165</td>\n",
       "      <td>2.1572</td>\n",
       "    </tr>\n",
       "  </tbody>\n",
       "</table>\n",
       "</div>"
      ],
      "text/plain": [
       "   Unnamed: 0  Id       CAS                     SMILES    Status  \\\n",
       "0           0   1  100-00-5   O=[N+]([O-])c1ccc(cc1)Cl  Training   \n",
       "1           1   2  100-01-6    O=[N+]([O-])c1ccc(N)cc1  Training   \n",
       "2           2   3  100-02-7    O=[N+]([O-])c1ccc(O)cc1  Training   \n",
       "3           3   4  100-11-8  O=[N+]([O-])c1ccc(cc1)CBr  Training   \n",
       "4           4   5  100-12-9   O=[N+]([O-])c1ccc(cc1)CC  Training   \n",
       "\n",
       "   Experimental value Predicted value  NumValenceElectrons       qed   TPSA  \\\n",
       "0                   1               1                   52  0.463602  43.14   \n",
       "1                   1               1                   52  0.359544  69.16   \n",
       "2                   0               1                   52  0.470728  63.37   \n",
       "3                   1               0                   58  0.432586  43.14   \n",
       "4                   0               0                   58  0.479785  43.14   \n",
       "\n",
       "     MolMR  BalabanJ     BertzCT    MolWt  MolLogP  \n",
       "0  38.1064  3.003401  244.429658  157.556   2.2482  \n",
       "1  37.5088  3.003401  242.429658  138.126   1.1770  \n",
       "2  34.7612  3.003401  241.674771  139.110   1.3004  \n",
       "3  45.7274  2.913802  257.648013  216.034   2.4897  \n",
       "4  42.4744  2.913802  253.299498  151.165   2.1572  "
      ]
     },
     "execution_count": 41,
     "metadata": {},
     "output_type": "execute_result"
    }
   ],
   "source": [
    "data_backup.head()"
   ]
  },
  {
   "cell_type": "code",
   "execution_count": 42,
   "id": "4d7fef0e",
   "metadata": {},
   "outputs": [],
   "source": [
    "y_clean = data_backup['Experimental value'].astype(int)\n",
    "y_vega_clean = data_backup['Predicted value'].astype(int)"
   ]
  },
  {
   "cell_type": "code",
   "execution_count": 43,
   "id": "3dad36e1",
   "metadata": {},
   "outputs": [],
   "source": [
    "cm_vega = confusion_matrix(y_clean, y_vega_clean)"
   ]
  },
  {
   "cell_type": "code",
   "execution_count": 44,
   "id": "66f8d830",
   "metadata": {},
   "outputs": [
    {
     "data": {
      "image/png": "[encoded data removed]",
      "text/plain": [
       "<Figure size 432x288 with 2 Axes>"
      ]
     },
     "metadata": {
      "needs_background": "light"
     },
     "output_type": "display_data"
    }
   ],
   "source": [
    "sns.heatmap(cm_vega, cmap='OrRd', annot=True, fmt='2.0f')\n",
    "plt.title('kNN-Neigbors')\n",
    "plt.ylabel('P R E V I S T O')\n",
    "plt.xlabel('R E A L')\n",
    "plt.show()"
   ]
  },
  {
   "cell_type": "code",
   "execution_count": 45,
   "id": "db25be59",
   "metadata": {},
   "outputs": [
    {
     "name": "stdout",
     "output_type": "stream",
     "text": [
      "VEGA - Metrics\n",
      "Acurácia: 0.8\n",
      "Precisão: 0.82\n",
      "Recall: 0.83\n",
      "F1: 0.82\n"
     ]
    }
   ],
   "source": [
    "print(\"VEGA - Metrics\")\n",
    "print(f\"Acurácia: {accuracy_score(y_clean, y_vega_clean).round(2)}\")\n",
    "print(f\"Precisão: {precision_score(y_clean, y_vega_clean).round(2)}\")\n",
    "print(f\"Recall: {recall_score(y_clean, y_vega_clean).round(2)}\")\n",
    "print(f\"F1: {f1_score(y_clean, y_vega_clean).round(2)}\")"
   ]
  },
  {
   "cell_type": "markdown",
   "id": "6bcbc52a",
   "metadata": {},
   "source": [
    "As métricas finais para os valores produzidos a partir da Machine Learning utilizando vega obtiveram melhores resultados que o kNN-Neighbors"
   ]
  },
  {
   "cell_type": "markdown",
   "id": "c8781847",
   "metadata": {},
   "source": [
    "## 5.3. Hyperparameter"
   ]
  },
  {
   "cell_type": "code",
   "execution_count": 46,
   "id": "4e39a73b",
   "metadata": {},
   "outputs": [
    {
     "data": {
      "application/vnd.jupyter.widget-view+json": {
       "model_id": "503a5dd123304e8c89b892a323abfeed",
       "version_major": 2,
       "version_minor": 0
      },
      "text/plain": [
       "  0%|          | 0/50 [00:00<?, ?it/s]"
      ]
     },
     "metadata": {},
     "output_type": "display_data"
    }
   ],
   "source": [
    "# criando o sistema para hyperparâmetro\n",
    "# escolhendo um array de valores para k, sendo num_ks um array de 1 a 100, variando de 2 em 2\n",
    "# seprando os X_train e y_train em X_train_hyp, y_train_hyp, e separando para X_valid e y_valid \n",
    "# dentro do for está testando com os valores de k estipulados dentro do array num_ks que vai dar um novo valor para k\n",
    "\n",
    "\n",
    "from tqdm.notebook import tqdm\n",
    "\n",
    "num_ks = np.arange(1, 100, 2).astype(int)\n",
    "\n",
    "X_train_hyp, X_valid, y_train_hyp, y_valid = train_test_split(X_train, y_train, test_size=0.1, random_state=0)\n",
    "\n",
    "train_accuracy = []\n",
    "valid_accuracy = []\n",
    "\n",
    "for i in tqdm(range(len(num_ks))):\n",
    "    knn = KNeighborsClassifier(n_neighbors=num_ks[i])\n",
    "    knn.fit(X_train_hyp, y_train_hyp)\n",
    "    \n",
    "    pred_train = knn.predict(X_train_hyp)\n",
    "    pred_valid  = knn.predict(X_valid)\n",
    "    \n",
    "    train_accuracy.append(1-accuracy_score(y_train_hyp, pred_train))\n",
    "    valid_accuracy.append(1-accuracy_score(y_valid, pred_valid))"
   ]
  },
  {
   "cell_type": "code",
   "execution_count": 47,
   "id": "b51d57b1",
   "metadata": {},
   "outputs": [
    {
     "data": {
      "image/png": "[encoded data removed]",
      "text/plain": [
       "<Figure size 2000x1200 with 1 Axes>"
      ]
     },
     "metadata": {
      "needs_background": "light"
     },
     "output_type": "display_data"
    }
   ],
   "source": [
    "plt.figure(figsize=(10,6), dpi=200)\n",
    "\n",
    "plt.plot(num_ks, train_accuracy, 'bs--', label=\"Treinamento\")\n",
    "plt.plot(num_ks, valid_accuracy, 'rx--', label=\"Validação\")\n",
    "\n",
    "plt.xlabel('Valor para k')\n",
    "plt.ylabel('Taxa de classificação incorreta')\n",
    "\n",
    "plt.legend()\n",
    "plt.show()"
   ]
  },
  {
   "cell_type": "markdown",
   "id": "52477616",
   "metadata": {},
   "source": [
    "## 5.4. Cross-Validation"
   ]
  },
  {
   "cell_type": "code",
   "execution_count": 48,
   "id": "e5df46d7",
   "metadata": {},
   "outputs": [],
   "source": [
    "from sklearn.model_selection import cross_validate"
   ]
  },
  {
   "cell_type": "code",
   "execution_count": 49,
   "id": "d706b96b",
   "metadata": {},
   "outputs": [
    {
     "data": {
      "application/vnd.jupyter.widget-view+json": {
       "model_id": "a2a886105ee04ec1b9778579116e3319",
       "version_major": 2,
       "version_minor": 0
      },
      "text/plain": [
       "  0%|          | 0/49 [00:00<?, ?it/s]"
      ]
     },
     "metadata": {},
     "output_type": "display_data"
    }
   ],
   "source": [
    "num_ks = np.arange(1, 50, 1).astype(int)\n",
    "\n",
    "train_misclassification = []\n",
    "valid_misclassification = []\n",
    "\n",
    "for i in tqdm(range(len(num_ks))):\n",
    "    knn = KNeighborsClassifier(n_neighbors=num_ks[i])\n",
    "    cv_dict = cross_validate(knn, X_train, y_train, cv=10, scoring='accuracy', return_train_score=True)\n",
    "    \n",
    "    k_fold_train_scored = cv_dict['train_score']\n",
    "    k_fold_valid_scored = cv_dict['test_score']\n",
    "    \n",
    "    train_misclassification.append(1-k_fold_train_scored.mean())\n",
    "    valid_misclassification.append(1-k_fold_valid_scored.mean())"
   ]
  },
  {
   "cell_type": "code",
   "execution_count": 50,
   "id": "70653661",
   "metadata": {},
   "outputs": [
    {
     "data": {
      "image/png": "[encoded data removed]",
      "text/plain": [
       "<Figure size 2000x1200 with 1 Axes>"
      ]
     },
     "metadata": {
      "needs_background": "light"
     },
     "output_type": "display_data"
    }
   ],
   "source": [
    "plt.figure(figsize=(10,6), dpi=200)\n",
    "\n",
    "plt.plot(num_ks, train_misclassification, 'bs--', label='Treinamento')\n",
    "plt.plot(num_ks, valid_misclassification, 'rx--', label='Validação')\n",
    "\n",
    "plt.xlabel('Valor para k')\n",
    "plt.ylabel('Taxa de classificação incorreta')\n",
    "\n",
    "plt.legend()\n",
    "plt.show()"
   ]
  },
  {
   "cell_type": "code",
   "execution_count": 51,
   "id": "a961589f",
   "metadata": {},
   "outputs": [
    {
     "name": "stdout",
     "output_type": "stream",
     "text": [
      "N° k com erro de classificação mínimo de validação:  17\n"
     ]
    }
   ],
   "source": [
    "print('N° k com erro de classificação mínimo de validação: ', num_ks[np.argmin(valid_misclassification)])"
   ]
  },
  {
   "cell_type": "code",
   "execution_count": 52,
   "id": "b208eb57",
   "metadata": {},
   "outputs": [
    {
     "data": {
      "image/png": "[encoded data removed]",
      "text/plain": [
       "<Figure size 720x432 with 1 Axes>"
      ]
     },
     "metadata": {
      "needs_background": "light"
     },
     "output_type": "display_data"
    }
   ],
   "source": [
    "plt.figure(figsize=(10,6))\n",
    "\n",
    "plt.plot(num_ks, valid_misclassification, 'rx--', label='Validação')\n",
    "\n",
    "plt.yscale('log')\n",
    "plt.xlabel('N° de k')\n",
    "plt.ylabel('Taxa de classificação incorreta')\n",
    "\n",
    "plt.legend()\n",
    "plt.show()"
   ]
  },
  {
   "cell_type": "markdown",
   "id": "b29c7177",
   "metadata": {},
   "source": [
    "Exercicio: You can now go back to your implementation of leave-one-out and train your kNN model using the best k that you found. How does it perform compared to the VEGA kNN? Do you got a better model? Why?"
   ]
  },
  {
   "cell_type": "code",
   "execution_count": 93,
   "id": "249d37d8",
   "metadata": {},
   "outputs": [],
   "source": [
    "knn = KNeighborsClassifier(n_neighbors=17)\n",
    "\n",
    "knn.fit(X_train, y_train)\n",
    "\n",
    "y_pred_new_k = knn.predict(X_test)"
   ]
  },
  {
   "cell_type": "code",
   "execution_count": 94,
   "id": "d6a6f7ff",
   "metadata": {},
   "outputs": [
    {
     "name": "stdout",
     "output_type": "stream",
     "text": [
      "kNN-Neighbors - Metrics\n",
      "Acurácia: 0.7\n",
      "Precisão: 0.72\n",
      "Recall: 0.78\n",
      "F1: 0.75\n"
     ]
    }
   ],
   "source": [
    "print(\"kNN-Neighbors - Metrics\")\n",
    "print(f\"Acurácia: {accuracy_score(y_test, y_pred_new_k).round(2)}\")\n",
    "print(f\"Precisão: {precision_score(y_test, y_pred_new_k).round(2)}\")\n",
    "print(f\"Recall: {recall_score(y_test, y_pred_new_k).round(2)}\")\n",
    "print(f\"F1: {f1_score(y_test, y_pred_new_k).round(2)}\")"
   ]
  },
  {
   "cell_type": "markdown",
   "id": "21368e20",
   "metadata": {},
   "source": [
    "Não, pois comparado aos valores demonstrados a cima, quanto maiores os valores para k mais a taxa de classificação incorreta tende a crescer, dessa forma o intervalo entre os valores 10 e 20 possuem as menores taxas de classificação incorreta. "
   ]
  },
  {
   "cell_type": "code",
   "execution_count": null,
   "id": "b2618ddb",
   "metadata": {},
   "outputs": [],
   "source": []
  }
 ],
 "metadata": {
  "kernelspec": {
   "display_name": "Python 3",
   "language": "python",
   "name": "python3"
  },
  "language_info": {
   "codemirror_mode": {
    "name": "ipython",
    "version": 3
   },
   "file_extension": ".py",
   "mimetype": "text/x-python",
   "name": "python",
   "nbconvert_exporter": "python",
   "pygments_lexer": "ipython3",
   "version": "3.8.8"
  }
 },
 "nbformat": 4,
 "nbformat_minor": 5
}
